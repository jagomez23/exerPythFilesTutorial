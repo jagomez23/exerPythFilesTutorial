{
 "cells": [
  {
   "cell_type": "code",
   "execution_count": 26,
   "source": [
    "# File Objects\r\n",
    "\r\n",
    "with open('utes.png', 'rb') as rf:\r\n",
    "    with open('utes_copy.png', 'wb') as wf:\r\n",
    "        chunk_size = 4096\r\n",
    "        rf_chunk = rf.read(chunk_size)\r\n",
    "        while len(rf_chunk) > 0:\r\n",
    "            wf.write(rf_chunk)\r\n",
    "            rf_chunk = rf.read(chunk_size)\r\n",
    "      \r\n",
    "    "
   ],
   "outputs": [],
   "metadata": {}
  }
 ],
 "metadata": {
  "orig_nbformat": 4,
  "language_info": {
   "name": "python",
   "version": "3.8.8",
   "mimetype": "text/x-python",
   "codemirror_mode": {
    "name": "ipython",
    "version": 3
   },
   "pygments_lexer": "ipython3",
   "nbconvert_exporter": "python",
   "file_extension": ".py"
  },
  "kernelspec": {
   "name": "python3",
   "display_name": "Python 3.8.8 64-bit ('base': conda)"
  },
  "interpreter": {
   "hash": "19d8b27b9638bec2bca1aada9967ec3e3176b960c3773914265e9fd233772bfc"
  }
 },
 "nbformat": 4,
 "nbformat_minor": 2
}